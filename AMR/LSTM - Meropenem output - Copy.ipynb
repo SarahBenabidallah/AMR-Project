{
 "cells": [
  {
   "cell_type": "code",
   "execution_count": 1,
   "metadata": {},
   "outputs": [],
   "source": [
    "\n",
    "import pandas as pd     \n",
    "import numpy as np      \n",
    "import matplotlib.pyplot as plt  \n",
    "from sklearn.model_selection import train_test_split\n",
    "from sklearn.compose import ColumnTransformer\n",
    "from sklearn.preprocessing import OneHotEncoder, StandardScaler\n",
    "import pandas as pd\n",
    "from sklearn.model_selection import train_test_split\n",
    "import keras\n",
    "from keras.models import Sequential\n",
    "from keras.optimizers import Adam\n",
    "from keras.layers import Dense,  Activation, Conv2D, MaxPool2D,ConvLSTM2D, MaxPooling2D,LSTM,Conv1D,MaxPool1D,GlobalAveragePooling1D,TimeDistributed,MaxPooling1D\n",
    "from keras.layers import Flatten, Dropout, BatchNormalization, Reshape\n",
    "from keras.utils.vis_utils import plot_model\n",
    "\n",
    "import os\n",
    "from sklearn.svm import SVC\n",
    "from sklearn.metrics import accuracy_score\n",
    "from sklearn.pipeline import make_pipeline\n",
    "from sklearn.compose import make_column_transformer\n",
    "from sklearn.model_selection import train_test_split\n",
    "from sklearn.linear_model import LogisticRegression\n",
    "from sklearn.metrics import confusion_matrix, classification_report\n",
    "from sklearn.metrics import accuracy_score\n",
    "import seaborn as sns\n",
    "import keras\n",
    "\n",
    "\n"
   ]
  },
  {
   "cell_type": "code",
   "execution_count": 2,
   "metadata": {},
   "outputs": [
    {
     "name": "stdout",
     "output_type": "stream",
     "text": [
      "<class 'pandas.core.frame.DataFrame'>\n",
      "RangeIndex: 16800 entries, 0 to 16799\n",
      "Data columns (total 31 columns):\n",
      " #   Column                       Non-Null Count  Dtype  \n",
      "---  ------                       --------------  -----  \n",
      " 0   StudyNumber                  16800 non-null  int64  \n",
      " 1   Date                         16800 non-null  object \n",
      " 2   ORG.1                        16800 non-null  object \n",
      " 3   Pseudomonas                  16800 non-null  int64  \n",
      " 4   Specimen                     16800 non-null  object \n",
      " 5   Ciprofloxacin                16800 non-null  float64\n",
      " 6   Ceftazidime                  16800 non-null  float64\n",
      " 7   Meropenem                    16800 non-null  float64\n",
      " 8   Pip/Tazo                     16800 non-null  float64\n",
      " 9   Tob                          16800 non-null  float64\n",
      " 10  MDR                          16800 non-null  float64\n",
      " 11  Ceftazidime_Cumul2Years      16800 non-null  float64\n",
      " 12  Tobramycin_Cumul2Years       16800 non-null  float64\n",
      " 13  Meropenem_Cumul2Years        16800 non-null  float64\n",
      " 14  Colistimethate_Cumul2Years   16800 non-null  float64\n",
      " 15  Fosfomycin_Cumul2Years       16800 non-null  float64\n",
      " 16  Aztreonam_Cumul2Years        16800 non-null  float64\n",
      " 17  Tazocin_Cumul2Years          16800 non-null  float64\n",
      " 18  Co-trimoxazole_Cumul2Years   16800 non-null  float64\n",
      " 19  Temocillin_Cumul2Years       16800 non-null  float64\n",
      " 20  Teicoplanin_Cumul2Years      16800 non-null  float64\n",
      " 21  Ceftazidime_Cumul6Months     16800 non-null  float64\n",
      " 22  Tobramycin_Cumul6Months      16800 non-null  float64\n",
      " 23  Meropenem_Cumul6Months       16800 non-null  float64\n",
      " 24  Colistimethate_Cumul6Months  16800 non-null  float64\n",
      " 25  Fosfomycin_Cumul6Months      16800 non-null  float64\n",
      " 26  Aztreonam_Cumul6Months       16800 non-null  float64\n",
      " 27  Tazocin_Cumul6Months         16800 non-null  float64\n",
      " 28  Co-trimoxazole_Cumul6Months  16800 non-null  float64\n",
      " 29  Temocillin_Cumul6Months      16800 non-null  float64\n",
      " 30  Teicoplanin_Cumul6Months     16800 non-null  float64\n",
      "dtypes: float64(26), int64(2), object(3)\n",
      "memory usage: 4.0+ MB\n"
     ]
    },
    {
     "data": {
      "text/html": [
       "<div>\n",
       "<style scoped>\n",
       "    .dataframe tbody tr th:only-of-type {\n",
       "        vertical-align: middle;\n",
       "    }\n",
       "\n",
       "    .dataframe tbody tr th {\n",
       "        vertical-align: top;\n",
       "    }\n",
       "\n",
       "    .dataframe thead th {\n",
       "        text-align: right;\n",
       "    }\n",
       "</style>\n",
       "<table border=\"1\" class=\"dataframe\">\n",
       "  <thead>\n",
       "    <tr style=\"text-align: right;\">\n",
       "      <th></th>\n",
       "      <th>StudyNumber</th>\n",
       "      <th>Date</th>\n",
       "      <th>ORG.1</th>\n",
       "      <th>Pseudomonas</th>\n",
       "      <th>Specimen</th>\n",
       "      <th>Ciprofloxacin</th>\n",
       "      <th>Ceftazidime</th>\n",
       "      <th>Meropenem</th>\n",
       "      <th>Pip/Tazo</th>\n",
       "      <th>Tob</th>\n",
       "      <th>...</th>\n",
       "      <th>Ceftazidime_Cumul6Months</th>\n",
       "      <th>Tobramycin_Cumul6Months</th>\n",
       "      <th>Meropenem_Cumul6Months</th>\n",
       "      <th>Colistimethate_Cumul6Months</th>\n",
       "      <th>Fosfomycin_Cumul6Months</th>\n",
       "      <th>Aztreonam_Cumul6Months</th>\n",
       "      <th>Tazocin_Cumul6Months</th>\n",
       "      <th>Co-trimoxazole_Cumul6Months</th>\n",
       "      <th>Temocillin_Cumul6Months</th>\n",
       "      <th>Teicoplanin_Cumul6Months</th>\n",
       "    </tr>\n",
       "  </thead>\n",
       "  <tbody>\n",
       "    <tr>\n",
       "      <th>0</th>\n",
       "      <td>205</td>\n",
       "      <td>2012-11-30</td>\n",
       "      <td>PYOMO</td>\n",
       "      <td>1</td>\n",
       "      <td>C,22.0443043.FA</td>\n",
       "      <td>1.0</td>\n",
       "      <td>1.0</td>\n",
       "      <td>1.0</td>\n",
       "      <td>0.0</td>\n",
       "      <td>0.0</td>\n",
       "      <td>...</td>\n",
       "      <td>0.0</td>\n",
       "      <td>0.0</td>\n",
       "      <td>0.0</td>\n",
       "      <td>0.0</td>\n",
       "      <td>0.0</td>\n",
       "      <td>0.0</td>\n",
       "      <td>0.0</td>\n",
       "      <td>0.0</td>\n",
       "      <td>0.0</td>\n",
       "      <td>0.0</td>\n",
       "    </tr>\n",
       "    <tr>\n",
       "      <th>1</th>\n",
       "      <td>205</td>\n",
       "      <td>2012-11-30</td>\n",
       "      <td>PYOS</td>\n",
       "      <td>1</td>\n",
       "      <td>C,22.0443043.FA</td>\n",
       "      <td>1.0</td>\n",
       "      <td>1.0</td>\n",
       "      <td>1.0</td>\n",
       "      <td>0.0</td>\n",
       "      <td>0.0</td>\n",
       "      <td>...</td>\n",
       "      <td>0.0</td>\n",
       "      <td>0.0</td>\n",
       "      <td>0.0</td>\n",
       "      <td>0.0</td>\n",
       "      <td>0.0</td>\n",
       "      <td>0.0</td>\n",
       "      <td>0.0</td>\n",
       "      <td>0.0</td>\n",
       "      <td>0.0</td>\n",
       "      <td>0.0</td>\n",
       "    </tr>\n",
       "    <tr>\n",
       "      <th>2</th>\n",
       "      <td>205</td>\n",
       "      <td>2012-11-30</td>\n",
       "      <td>STAU</td>\n",
       "      <td>0</td>\n",
       "      <td>C,22.0443043.FA</td>\n",
       "      <td>0.0</td>\n",
       "      <td>0.0</td>\n",
       "      <td>0.0</td>\n",
       "      <td>0.0</td>\n",
       "      <td>0.0</td>\n",
       "      <td>...</td>\n",
       "      <td>0.0</td>\n",
       "      <td>0.0</td>\n",
       "      <td>0.0</td>\n",
       "      <td>0.0</td>\n",
       "      <td>0.0</td>\n",
       "      <td>0.0</td>\n",
       "      <td>0.0</td>\n",
       "      <td>0.0</td>\n",
       "      <td>0.0</td>\n",
       "      <td>0.0</td>\n",
       "    </tr>\n",
       "    <tr>\n",
       "      <th>3</th>\n",
       "      <td>41</td>\n",
       "      <td>2013-01-01</td>\n",
       "      <td>Pseudomona</td>\n",
       "      <td>1</td>\n",
       "      <td>C,13.0140020.BA</td>\n",
       "      <td>1.0</td>\n",
       "      <td>1.0</td>\n",
       "      <td>0.0</td>\n",
       "      <td>1.0</td>\n",
       "      <td>0.0</td>\n",
       "      <td>...</td>\n",
       "      <td>0.0</td>\n",
       "      <td>0.0</td>\n",
       "      <td>0.0</td>\n",
       "      <td>0.0</td>\n",
       "      <td>0.0</td>\n",
       "      <td>0.0</td>\n",
       "      <td>0.0</td>\n",
       "      <td>0.0</td>\n",
       "      <td>0.0</td>\n",
       "      <td>0.0</td>\n",
       "    </tr>\n",
       "  </tbody>\n",
       "</table>\n",
       "<p>4 rows × 31 columns</p>\n",
       "</div>"
      ],
      "text/plain": [
       "   StudyNumber        Date       ORG.1  Pseudomonas         Specimen  \\\n",
       "0          205  2012-11-30       PYOMO            1  C,22.0443043.FA   \n",
       "1          205  2012-11-30        PYOS            1  C,22.0443043.FA   \n",
       "2          205  2012-11-30        STAU            0  C,22.0443043.FA   \n",
       "3           41  2013-01-01  Pseudomona            1  C,13.0140020.BA   \n",
       "\n",
       "   Ciprofloxacin  Ceftazidime  Meropenem  Pip/Tazo  Tob  ...  \\\n",
       "0            1.0          1.0        1.0       0.0  0.0  ...   \n",
       "1            1.0          1.0        1.0       0.0  0.0  ...   \n",
       "2            0.0          0.0        0.0       0.0  0.0  ...   \n",
       "3            1.0          1.0        0.0       1.0  0.0  ...   \n",
       "\n",
       "   Ceftazidime_Cumul6Months  Tobramycin_Cumul6Months  Meropenem_Cumul6Months  \\\n",
       "0                       0.0                      0.0                     0.0   \n",
       "1                       0.0                      0.0                     0.0   \n",
       "2                       0.0                      0.0                     0.0   \n",
       "3                       0.0                      0.0                     0.0   \n",
       "\n",
       "   Colistimethate_Cumul6Months  Fosfomycin_Cumul6Months  \\\n",
       "0                          0.0                      0.0   \n",
       "1                          0.0                      0.0   \n",
       "2                          0.0                      0.0   \n",
       "3                          0.0                      0.0   \n",
       "\n",
       "   Aztreonam_Cumul6Months  Tazocin_Cumul6Months  Co-trimoxazole_Cumul6Months  \\\n",
       "0                     0.0                   0.0                          0.0   \n",
       "1                     0.0                   0.0                          0.0   \n",
       "2                     0.0                   0.0                          0.0   \n",
       "3                     0.0                   0.0                          0.0   \n",
       "\n",
       "   Temocillin_Cumul6Months  Teicoplanin_Cumul6Months  \n",
       "0                      0.0                       0.0  \n",
       "1                      0.0                       0.0  \n",
       "2                      0.0                       0.0  \n",
       "3                      0.0                       0.0  \n",
       "\n",
       "[4 rows x 31 columns]"
      ]
     },
     "execution_count": 2,
     "metadata": {},
     "output_type": "execute_result"
    }
   ],
   "source": [
    "MicroC = pd.read_csv(\"FinalIV_Cumulative.csv\")\n",
    "MicroC.info()\n",
    "MicroC.head(4)\n"
   ]
  },
  {
   "cell_type": "code",
   "execution_count": 3,
   "metadata": {},
   "outputs": [],
   "source": [
    "from sklearn.preprocessing import LabelEncoder\n",
    "\n",
    "MicroC['Date']= pd.to_datetime(MicroC['Date'])\n",
    "MicroC = MicroC.sort_values('Date')\n",
    "MicroC = MicroC.drop([ 'ORG.1', 'Pseudomonas', 'Date'], axis=1)\n",
    "\n",
    "\n"
   ]
  },
  {
   "cell_type": "code",
   "execution_count": 4,
   "metadata": {},
   "outputs": [],
   "source": [
    "# Convert categorical features to numeric\n",
    "label_encoder = LabelEncoder()\n",
    "MicroC['Specimen'] = label_encoder.fit_transform(MicroC['Specimen'])"
   ]
  },
  {
   "cell_type": "code",
   "execution_count": 5,
   "metadata": {},
   "outputs": [],
   "source": [
    "x= MicroC.drop(columns='Ciprofloxacin')\n",
    "y = MicroC['Ciprofloxacin']\n"
   ]
  },
  {
   "cell_type": "code",
   "execution_count": 6,
   "metadata": {},
   "outputs": [],
   "source": [
    "from sklearn.model_selection import train_test_split\n",
    "from sklearn.preprocessing import StandardScaler\n",
    "\n",
    "X_train, X_test, y_train, y_test = train_test_split(x,y, train_size=0.8, random_state=42)\n",
    "\n",
    "\n",
    "\n"
   ]
  },
  {
   "cell_type": "code",
   "execution_count": 7,
   "metadata": {},
   "outputs": [
    {
     "data": {
      "text/html": [
       "<div>\n",
       "<style scoped>\n",
       "    .dataframe tbody tr th:only-of-type {\n",
       "        vertical-align: middle;\n",
       "    }\n",
       "\n",
       "    .dataframe tbody tr th {\n",
       "        vertical-align: top;\n",
       "    }\n",
       "\n",
       "    .dataframe thead th {\n",
       "        text-align: right;\n",
       "    }\n",
       "</style>\n",
       "<table border=\"1\" class=\"dataframe\">\n",
       "  <thead>\n",
       "    <tr style=\"text-align: right;\">\n",
       "      <th></th>\n",
       "      <th>StudyNumber</th>\n",
       "      <th>Specimen</th>\n",
       "      <th>Ciprofloxacin</th>\n",
       "      <th>Ceftazidime</th>\n",
       "      <th>Meropenem</th>\n",
       "      <th>Pip/Tazo</th>\n",
       "      <th>Tob</th>\n",
       "      <th>MDR</th>\n",
       "      <th>Ceftazidime_Cumul2Years</th>\n",
       "      <th>Tobramycin_Cumul2Years</th>\n",
       "      <th>...</th>\n",
       "      <th>Ceftazidime_Cumul6Months</th>\n",
       "      <th>Tobramycin_Cumul6Months</th>\n",
       "      <th>Meropenem_Cumul6Months</th>\n",
       "      <th>Colistimethate_Cumul6Months</th>\n",
       "      <th>Fosfomycin_Cumul6Months</th>\n",
       "      <th>Aztreonam_Cumul6Months</th>\n",
       "      <th>Tazocin_Cumul6Months</th>\n",
       "      <th>Co-trimoxazole_Cumul6Months</th>\n",
       "      <th>Temocillin_Cumul6Months</th>\n",
       "      <th>Teicoplanin_Cumul6Months</th>\n",
       "    </tr>\n",
       "  </thead>\n",
       "  <tbody>\n",
       "    <tr>\n",
       "      <th>0</th>\n",
       "      <td>205</td>\n",
       "      <td>8320</td>\n",
       "      <td>1.0</td>\n",
       "      <td>1.0</td>\n",
       "      <td>1.0</td>\n",
       "      <td>0.0</td>\n",
       "      <td>0.0</td>\n",
       "      <td>1.0</td>\n",
       "      <td>0.0</td>\n",
       "      <td>0.0</td>\n",
       "      <td>...</td>\n",
       "      <td>0.0</td>\n",
       "      <td>0.0</td>\n",
       "      <td>0.0</td>\n",
       "      <td>0.0</td>\n",
       "      <td>0.0</td>\n",
       "      <td>0.0</td>\n",
       "      <td>0.0</td>\n",
       "      <td>0.0</td>\n",
       "      <td>0.0</td>\n",
       "      <td>0.0</td>\n",
       "    </tr>\n",
       "    <tr>\n",
       "      <th>1</th>\n",
       "      <td>205</td>\n",
       "      <td>8320</td>\n",
       "      <td>1.0</td>\n",
       "      <td>1.0</td>\n",
       "      <td>1.0</td>\n",
       "      <td>0.0</td>\n",
       "      <td>0.0</td>\n",
       "      <td>1.0</td>\n",
       "      <td>0.0</td>\n",
       "      <td>0.0</td>\n",
       "      <td>...</td>\n",
       "      <td>0.0</td>\n",
       "      <td>0.0</td>\n",
       "      <td>0.0</td>\n",
       "      <td>0.0</td>\n",
       "      <td>0.0</td>\n",
       "      <td>0.0</td>\n",
       "      <td>0.0</td>\n",
       "      <td>0.0</td>\n",
       "      <td>0.0</td>\n",
       "      <td>0.0</td>\n",
       "    </tr>\n",
       "    <tr>\n",
       "      <th>2</th>\n",
       "      <td>205</td>\n",
       "      <td>8320</td>\n",
       "      <td>0.0</td>\n",
       "      <td>0.0</td>\n",
       "      <td>0.0</td>\n",
       "      <td>0.0</td>\n",
       "      <td>0.0</td>\n",
       "      <td>0.0</td>\n",
       "      <td>0.0</td>\n",
       "      <td>0.0</td>\n",
       "      <td>...</td>\n",
       "      <td>0.0</td>\n",
       "      <td>0.0</td>\n",
       "      <td>0.0</td>\n",
       "      <td>0.0</td>\n",
       "      <td>0.0</td>\n",
       "      <td>0.0</td>\n",
       "      <td>0.0</td>\n",
       "      <td>0.0</td>\n",
       "      <td>0.0</td>\n",
       "      <td>0.0</td>\n",
       "    </tr>\n",
       "    <tr>\n",
       "      <th>3</th>\n",
       "      <td>41</td>\n",
       "      <td>1</td>\n",
       "      <td>1.0</td>\n",
       "      <td>1.0</td>\n",
       "      <td>0.0</td>\n",
       "      <td>1.0</td>\n",
       "      <td>0.0</td>\n",
       "      <td>1.0</td>\n",
       "      <td>0.0</td>\n",
       "      <td>0.0</td>\n",
       "      <td>...</td>\n",
       "      <td>0.0</td>\n",
       "      <td>0.0</td>\n",
       "      <td>0.0</td>\n",
       "      <td>0.0</td>\n",
       "      <td>0.0</td>\n",
       "      <td>0.0</td>\n",
       "      <td>0.0</td>\n",
       "      <td>0.0</td>\n",
       "      <td>0.0</td>\n",
       "      <td>0.0</td>\n",
       "    </tr>\n",
       "    <tr>\n",
       "      <th>4</th>\n",
       "      <td>41</td>\n",
       "      <td>1</td>\n",
       "      <td>0.0</td>\n",
       "      <td>0.0</td>\n",
       "      <td>0.0</td>\n",
       "      <td>0.0</td>\n",
       "      <td>0.0</td>\n",
       "      <td>0.0</td>\n",
       "      <td>0.0</td>\n",
       "      <td>0.0</td>\n",
       "      <td>...</td>\n",
       "      <td>0.0</td>\n",
       "      <td>0.0</td>\n",
       "      <td>0.0</td>\n",
       "      <td>0.0</td>\n",
       "      <td>0.0</td>\n",
       "      <td>0.0</td>\n",
       "      <td>0.0</td>\n",
       "      <td>0.0</td>\n",
       "      <td>0.0</td>\n",
       "      <td>0.0</td>\n",
       "    </tr>\n",
       "  </tbody>\n",
       "</table>\n",
       "<p>5 rows × 28 columns</p>\n",
       "</div>"
      ],
      "text/plain": [
       "   StudyNumber  Specimen  Ciprofloxacin  Ceftazidime  Meropenem  Pip/Tazo  \\\n",
       "0          205      8320            1.0          1.0        1.0       0.0   \n",
       "1          205      8320            1.0          1.0        1.0       0.0   \n",
       "2          205      8320            0.0          0.0        0.0       0.0   \n",
       "3           41         1            1.0          1.0        0.0       1.0   \n",
       "4           41         1            0.0          0.0        0.0       0.0   \n",
       "\n",
       "   Tob  MDR  Ceftazidime_Cumul2Years  Tobramycin_Cumul2Years  ...  \\\n",
       "0  0.0  1.0                      0.0                     0.0  ...   \n",
       "1  0.0  1.0                      0.0                     0.0  ...   \n",
       "2  0.0  0.0                      0.0                     0.0  ...   \n",
       "3  0.0  1.0                      0.0                     0.0  ...   \n",
       "4  0.0  0.0                      0.0                     0.0  ...   \n",
       "\n",
       "   Ceftazidime_Cumul6Months  Tobramycin_Cumul6Months  Meropenem_Cumul6Months  \\\n",
       "0                       0.0                      0.0                     0.0   \n",
       "1                       0.0                      0.0                     0.0   \n",
       "2                       0.0                      0.0                     0.0   \n",
       "3                       0.0                      0.0                     0.0   \n",
       "4                       0.0                      0.0                     0.0   \n",
       "\n",
       "   Colistimethate_Cumul6Months  Fosfomycin_Cumul6Months  \\\n",
       "0                          0.0                      0.0   \n",
       "1                          0.0                      0.0   \n",
       "2                          0.0                      0.0   \n",
       "3                          0.0                      0.0   \n",
       "4                          0.0                      0.0   \n",
       "\n",
       "   Aztreonam_Cumul6Months  Tazocin_Cumul6Months  Co-trimoxazole_Cumul6Months  \\\n",
       "0                     0.0                   0.0                          0.0   \n",
       "1                     0.0                   0.0                          0.0   \n",
       "2                     0.0                   0.0                          0.0   \n",
       "3                     0.0                   0.0                          0.0   \n",
       "4                     0.0                   0.0                          0.0   \n",
       "\n",
       "   Temocillin_Cumul6Months  Teicoplanin_Cumul6Months  \n",
       "0                      0.0                       0.0  \n",
       "1                      0.0                       0.0  \n",
       "2                      0.0                       0.0  \n",
       "3                      0.0                       0.0  \n",
       "4                      0.0                       0.0  \n",
       "\n",
       "[5 rows x 28 columns]"
      ]
     },
     "execution_count": 7,
     "metadata": {},
     "output_type": "execute_result"
    }
   ],
   "source": [
    "MicroC.head(5)\n"
   ]
  },
  {
   "cell_type": "code",
   "execution_count": 8,
   "metadata": {},
   "outputs": [],
   "source": [
    "# Reshape the input data for LSTM\n",
    "#X_train = np.reshape(X_train, (X_train.shape[0], X_train.shape[1]))\n",
    "#X_test = np.reshape(X_test, (X_test.shape[0], X_test.shape[1]))\n"
   ]
  },
  {
   "cell_type": "code",
   "execution_count": 9,
   "metadata": {},
   "outputs": [],
   "source": [
    "# Define the LSTM model\n",
    "#model = Sequential()\n",
    "#model.add(LSTM(64, input_shape=(X_train.shape[1], 1)))\n",
    "#model.add(Dropout(0.5))\n",
    "#model.add(Dense(2, activation='softmax'))  # Update the number of units to 2\n",
    "\n",
    "# Compile and train the model\n",
    "#model.compile(loss='categorical_crossentropy', optimizer='adam', metrics=['accuracy'])\n",
    "#history = model.fit(X_train, y_train, epochs=10, batch_size=32, validation_data=(X_test, y_test))\n"
   ]
  },
  {
   "cell_type": "code",
   "execution_count": 10,
   "metadata": {},
   "outputs": [],
   "source": [
    "# reset tensorflow session\n",
    "from tensorflow.keras import backend as K\n",
    "K.clear_session()"
   ]
  },
  {
   "cell_type": "code",
   "execution_count": 11,
   "metadata": {},
   "outputs": [],
   "source": [
    "# Normalize input features\n",
    "#scaler = MinMaxScaler()\n",
    "#X_train_scaled = scaler.fit_transform(X_train)\n",
    "#X_test_scaled = scaler.transform(X_test)\n",
    "\n",
    "# Reshape the input data\n",
    "#X_train_reshaped = X_train_scaled.reshape(X_train_scaled.shape[0], X_train_scaled.shape[1], 1)\n",
    "#X_test_reshaped = X_test_scaled.reshape(X_test_scaled.shape[0], X_test_scaled.shape[1], 1)\n",
    "\n",
    "# Define the LSTM model\n",
    "#model = Sequential()\n",
    "#model.add(Conv1D(filters=80, kernel_size=3, activation='relu', input_shape=(X_train.shape[1], 1)))\n",
    "#model.add(MaxPooling1D(pool_size=2))\n",
    "#model.add(Conv1D(filters=64, kernel_size=3, activation='relu'))\n",
    "#model.add(MaxPooling1D(pool_size=2))\n",
    "#model.add(LSTM(64))\n",
    "#model.add(Dropout(0.2))\n",
    "#model.add(Dense(100, activation='relu'))\n",
    "#model.add(Dense(2, activation='softmax'))\n",
    "\n",
    "# Compile and train the model\n",
    "#model.compile(loss='categorical_crossentropy', optimizer='RMSprop', metrics=['accuracy'])\n"
   ]
  },
  {
   "cell_type": "code",
   "execution_count": 12,
   "metadata": {},
   "outputs": [
    {
     "name": "stdout",
     "output_type": "stream",
     "text": [
      "Model: \"sequential\"\n",
      "_________________________________________________________________\n",
      " Layer (type)                Output Shape              Param #   \n",
      "=================================================================\n",
      " conv1d (Conv1D)             (None, 25, 80)            320       \n",
      "                                                                 \n",
      " max_pooling1d (MaxPooling1D  (None, 12, 80)           0         \n",
      " )                                                               \n",
      "                                                                 \n",
      " conv1d_1 (Conv1D)           (None, 10, 64)            15424     \n",
      "                                                                 \n",
      " max_pooling1d_1 (MaxPooling  (None, 5, 64)            0         \n",
      " 1D)                                                             \n",
      "                                                                 \n",
      " lstm (LSTM)                 (None, 64)                33024     \n",
      "                                                                 \n",
      " dropout (Dropout)           (None, 64)                0         \n",
      "                                                                 \n",
      " dense (Dense)               (None, 1)                 65        \n",
      "                                                                 \n",
      "=================================================================\n",
      "Total params: 48,833\n",
      "Trainable params: 48,833\n",
      "Non-trainable params: 0\n",
      "_________________________________________________________________\n",
      "None\n"
     ]
    }
   ],
   "source": [
    "from sklearn.model_selection import train_test_split\n",
    "from tensorflow.keras.models import Sequential\n",
    "from tensorflow.keras.layers import LSTM, Dense, Dropout, Conv1D, MaxPooling1D, Flatten\n",
    "from tensorflow.keras.utils import to_categorical\n",
    "from sklearn.preprocessing import MinMaxScaler\n",
    "\n",
    "from sklearn.model_selection import train_test_split\n",
    "from tensorflow.keras.models import Sequential\n",
    "from tensorflow.keras.layers import LSTM, Dense, Dropout, Conv1D, MaxPooling1D\n",
    "from sklearn.preprocessing import MinMaxScaler\n",
    "\n",
    "# Normalize input features\n",
    "scaler = MinMaxScaler()\n",
    "X_train_scaled = scaler.fit_transform(X_train)\n",
    "X_test_scaled = scaler.transform(X_test)\n",
    "\n",
    "# Reshape the input data\n",
    "X_train_reshaped = X_train_scaled.reshape(X_train_scaled.shape[0], X_train_scaled.shape[1], 1)\n",
    "X_test_reshaped = X_test_scaled.reshape(X_test_scaled.shape[0], X_test_scaled.shape[1], 1)\n",
    "\n",
    "# Define the LSTM model\n",
    "model = Sequential()\n",
    "model.add(Conv1D(filters=80, kernel_size=3, activation='relu', input_shape=(X_train.shape[1], 1)))\n",
    "model.add(MaxPooling1D(pool_size=2))\n",
    "model.add(Conv1D(filters=64, kernel_size=3, activation='relu'))\n",
    "model.add(MaxPooling1D(pool_size=2))\n",
    "\n",
    "model.add(LSTM(64))\n",
    "model.add(Dropout(0.2))\n",
    "model.add(Dense(1, activation='sigmoid'))\n",
    "\n",
    "# Compile the model\n",
    "model.compile(loss='binary_crossentropy', optimizer='RMSprop', metrics=['accuracy'])\n",
    "\n",
    "# Print model summary\n",
    "print(model.summary())\n",
    "\n"
   ]
  },
  {
   "cell_type": "code",
   "execution_count": 13,
   "metadata": {},
   "outputs": [
    {
     "data": {
      "text/plain": [
       "(3360, 27, 1)"
      ]
     },
     "execution_count": 13,
     "metadata": {},
     "output_type": "execute_result"
    }
   ],
   "source": [
    "X_test_reshaped.shape\n"
   ]
  },
  {
   "cell_type": "code",
   "execution_count": 14,
   "metadata": {},
   "outputs": [
    {
     "data": {
      "text/plain": [
       "(13440, 27, 1)"
      ]
     },
     "execution_count": 14,
     "metadata": {},
     "output_type": "execute_result"
    }
   ],
   "source": [
    "X_train_reshaped.shape"
   ]
  },
  {
   "cell_type": "code",
   "execution_count": 15,
   "metadata": {},
   "outputs": [
    {
     "data": {
      "text/plain": [
       "(3360,)"
      ]
     },
     "execution_count": 15,
     "metadata": {},
     "output_type": "execute_result"
    }
   ],
   "source": [
    "y_test.shape"
   ]
  },
  {
   "cell_type": "code",
   "execution_count": 16,
   "metadata": {},
   "outputs": [
    {
     "data": {
      "text/plain": [
       "(13440,)"
      ]
     },
     "execution_count": 16,
     "metadata": {},
     "output_type": "execute_result"
    }
   ],
   "source": [
    "y_train.shape"
   ]
  },
  {
   "cell_type": "code",
   "execution_count": 17,
   "metadata": {},
   "outputs": [
    {
     "name": "stdout",
     "output_type": "stream",
     "text": [
      "Epoch 1/20\n",
      "168/168 [==============================] - 9s 31ms/step - loss: 0.5796 - accuracy: 0.7054 - val_loss: 0.5387 - val_accuracy: 0.7336\n",
      "Epoch 2/20\n",
      "168/168 [==============================] - 4s 25ms/step - loss: 0.5344 - accuracy: 0.7316 - val_loss: 0.5351 - val_accuracy: 0.7318\n",
      "Epoch 3/20\n",
      "168/168 [==============================] - 6s 37ms/step - loss: 0.5200 - accuracy: 0.7360 - val_loss: 0.5095 - val_accuracy: 0.7433\n",
      "Epoch 4/20\n",
      "168/168 [==============================] - 7s 40ms/step - loss: 0.5070 - accuracy: 0.7406 - val_loss: 0.5077 - val_accuracy: 0.7359\n",
      "Epoch 5/20\n",
      "168/168 [==============================] - 6s 35ms/step - loss: 0.5055 - accuracy: 0.7346 - val_loss: 0.5051 - val_accuracy: 0.7437\n",
      "Epoch 6/20\n",
      "168/168 [==============================] - 6s 33ms/step - loss: 0.5002 - accuracy: 0.7354 - val_loss: 0.4968 - val_accuracy: 0.7448\n",
      "Epoch 7/20\n",
      "168/168 [==============================] - 6s 35ms/step - loss: 0.4972 - accuracy: 0.7408 - val_loss: 0.5136 - val_accuracy: 0.7254\n",
      "Epoch 8/20\n",
      "168/168 [==============================] - 6s 35ms/step - loss: 0.4940 - accuracy: 0.7406 - val_loss: 0.5337 - val_accuracy: 0.7214\n",
      "Epoch 9/20\n",
      "168/168 [==============================] - 6s 36ms/step - loss: 0.4902 - accuracy: 0.7414 - val_loss: 0.5035 - val_accuracy: 0.7381\n",
      "Epoch 10/20\n",
      "168/168 [==============================] - 6s 36ms/step - loss: 0.4894 - accuracy: 0.7420 - val_loss: 0.4922 - val_accuracy: 0.7493\n",
      "Epoch 11/20\n",
      "168/168 [==============================] - 7s 40ms/step - loss: 0.4859 - accuracy: 0.7427 - val_loss: 0.5171 - val_accuracy: 0.7165\n",
      "Epoch 12/20\n",
      "168/168 [==============================] - 6s 38ms/step - loss: 0.4843 - accuracy: 0.7425 - val_loss: 0.4881 - val_accuracy: 0.7459\n",
      "Epoch 13/20\n",
      "168/168 [==============================] - 6s 36ms/step - loss: 0.4804 - accuracy: 0.7450 - val_loss: 0.5082 - val_accuracy: 0.7355\n",
      "Epoch 14/20\n",
      "168/168 [==============================] - 7s 42ms/step - loss: 0.4781 - accuracy: 0.7427 - val_loss: 0.4943 - val_accuracy: 0.7336\n",
      "Epoch 15/20\n",
      "168/168 [==============================] - 6s 35ms/step - loss: 0.4742 - accuracy: 0.7455 - val_loss: 0.4907 - val_accuracy: 0.7351\n",
      "Epoch 16/20\n",
      "168/168 [==============================] - 6s 33ms/step - loss: 0.4742 - accuracy: 0.7470 - val_loss: 0.4825 - val_accuracy: 0.7444\n",
      "Epoch 17/20\n",
      "168/168 [==============================] - 6s 37ms/step - loss: 0.4722 - accuracy: 0.7459 - val_loss: 0.4822 - val_accuracy: 0.7452\n",
      "Epoch 18/20\n",
      "168/168 [==============================] - 5s 32ms/step - loss: 0.4661 - accuracy: 0.7526 - val_loss: 0.4857 - val_accuracy: 0.7400\n",
      "Epoch 19/20\n",
      "168/168 [==============================] - 6s 35ms/step - loss: 0.4675 - accuracy: 0.7505 - val_loss: 0.4772 - val_accuracy: 0.7463\n",
      "Epoch 20/20\n",
      "168/168 [==============================] - 6s 35ms/step - loss: 0.4664 - accuracy: 0.7481 - val_loss: 0.4925 - val_accuracy: 0.7314\n"
     ]
    }
   ],
   "source": [
    "#model.fit(X_train_reshaped, y_train, epochs=20, batch_size=32)\n",
    "\n",
    "\n",
    "callbacks_list = [\n",
    "    keras.callbacks.ModelCheckpoint(\n",
    "        filepath='best_model.{epoch:02d}-{val_loss:.2f}.h5',\n",
    "        monitor='val_loss', save_best_only=True),\n",
    "    keras.callbacks.EarlyStopping(monitor='accuracy', patience=1)\n",
    "]\n",
    "#model.compile(loss='categorical_crossentropy', optimizer='adam', metrics=['accuracy'])\n",
    "history = model.fit(X_train_reshaped,\n",
    "                    y_train,\n",
    "                    batch_size= 64, \n",
    "                    validation_split=0.2,\n",
    "                    epochs=20\n",
    "                   )\n"
   ]
  },
  {
   "cell_type": "code",
   "execution_count": 24,
   "metadata": {},
   "outputs": [
    {
     "name": "stdout",
     "output_type": "stream",
     "text": [
      "105/105 [==============================] - 0s 3ms/step\n",
      "Predicted Labels: [1 0 0 ... 1 0 0]\n",
      "True Labels: [1. 0. 0. ... 1. 1. 1.]\n"
     ]
    }
   ],
   "source": [
    "# Make predictions on test data\n",
    "predictions = model.predict(X_test_reshaped)\n",
    "predicted_labels = (predictions > 0.35386014).astype(int)\n",
    "\n",
    "# Convert Pandas Series to NumPy arrays and flatten them\n",
    "predicted_labels = predicted_labels.flatten()\n",
    "true_labels = y_test.values.flatten()\n",
    "\n",
    "\n",
    "# Print predicted and true labels\n",
    "print(\"Predicted Labels:\", predicted_labels)\n",
    "print(\"True Labels:\", true_labels)\n"
   ]
  },
  {
   "cell_type": "code",
   "execution_count": 25,
   "metadata": {},
   "outputs": [
    {
     "data": {
      "image/png": "[encoded data removed]",
      "text/plain": [
       "<Figure size 432x288 with 2 Axes>"
      ]
     },
     "metadata": {
      "needs_background": "light"
     },
     "output_type": "display_data"
    }
   ],
   "source": [
    "def plot_history(history):\n",
    "    plt.figure()\n",
    "    plt.subplot(2,1,1)\n",
    "    plt.plot(history.history['loss'])\n",
    "    \n",
    "    plt.plot(history.history['val_loss'])\n",
    "    plt.ylabel('loss')\n",
    "    plt.xlabel('epoch')\n",
    "    plt.legend(['train', 'validation'])\n",
    "    plt.subplot(2,1,2)\n",
    "    plt.plot(history.history['accuracy'])\n",
    "    plt.plot(history.history['val_accuracy'])\n",
    "    plt.ylabel('accuracy')\n",
    "    plt.xlabel('epoch')\n",
    "    plt.legend(['train', 'validation'])\n",
    "    plt.savefig('EpochCiprofloxacinoutput.png', dpi=400)\n",
    "\n",
    "    return;\n",
    "\n",
    "plot_history(history)"
   ]
  },
  {
   "cell_type": "code",
   "execution_count": 30,
   "metadata": {},
   "outputs": [
    {
     "name": "stdout",
     "output_type": "stream",
     "text": [
      "Accuracy on Test Data: 0.7395833333333334\n",
      "Sensitivity (True Positive Rate): 0.740\n"
     ]
    }
   ],
   "source": [
    "from sklearn.metrics import accuracy_score\n",
    "\n",
    "# Convert Pandas Series to NumPy arrays and flatten them\n",
    "predicted_labels = predicted_labels.flatten()\n",
    "true_labels = y_test.values.flatten()\n",
    "\n",
    "# Calculate accuracy\n",
    "accuracy = accuracy_score(true_labels, predicted_labels)\n",
    "\n",
    "# Print accuracy\n",
    "print(\"Accuracy on Test Data:\", accuracy)\n",
    "print(\"Sensitivity (True Positive Rate): {:.3f}\".format(accuracy))\n",
    "\n"
   ]
  },
  {
   "cell_type": "code",
   "execution_count": 27,
   "metadata": {},
   "outputs": [
    {
     "data": {
      "image/png": "[encoded data removed]",
      "text/plain": [
       "<Figure size 432x288 with 2 Axes>"
      ]
     },
     "metadata": {
      "needs_background": "light"
     },
     "output_type": "display_data"
    }
   ],
   "source": [
    "import seaborn as sns\n",
    "from sklearn.metrics import confusion_matrix\n",
    "\n",
    "# Calculate the confusion matrix\n",
    "cm = confusion_matrix(true_labels, predicted_labels)\n",
    "\n",
    "# Plot the confusion matrix as a heatmap\n",
    "sns.heatmap(cm, annot=True, cmap='Blues', fmt='d')\n",
    "plt.xlabel('Predicted Labels')\n",
    "plt.ylabel('True Labels')\n",
    "plt.title('Confusion Matrix')\n",
    "plt.savefig('confMatCiprofloxacinoutput.png', dpi=400)\n",
    "\n",
    "plt.show()\n"
   ]
  },
  {
   "cell_type": "code",
   "execution_count": 31,
   "metadata": {},
   "outputs": [
    {
     "name": "stdout",
     "output_type": "stream",
     "text": [
      "Sensitivity (True Positive Rate): 0.692\n",
      "Specificity (True Negative Rate): 0.777\n",
      "ROC AUC: 0.830\n",
      "Precision: 0.710\n",
      "Recall: 0.692\n",
      "F1-score: 0.701\n",
      "Sensitivity (True Positive Rate): 0.692\n",
      "Specificity (True Negative Rate): 0.777\n"
     ]
    },
    {
     "data": {
      "image/png": "[encoded data removed]",
      "text/plain": [
       "<Figure size 576x432 with 1 Axes>"
      ]
     },
     "metadata": {
      "needs_background": "light"
     },
     "output_type": "display_data"
    }
   ],
   "source": [
    "import matplotlib.pyplot as plt\n",
    "from sklearn.metrics import roc_curve, roc_auc_score, confusion_matrix, precision_score, recall_score, f1_score\n",
    "\n",
    "fpr, tpr, _ = roc_curve(true_labels, predictions)\n",
    "\n",
    "roc_auc = roc_auc_score(true_labels, predictions)\n",
    "\n",
    "conf_matrix = confusion_matrix(true_labels, predicted_labels)\n",
    "\n",
    "# Compute precision, recall, and F1-score\n",
    "precision = precision_score(true_labels, predicted_labels)\n",
    "recall = recall_score(true_labels, predicted_labels)\n",
    "f1 = f1_score(true_labels, predicted_labels)\n",
    "# Get the elements of the confusion matrix\n",
    "tn, fp, fn, tp = conf_matrix.ravel()\n",
    "\n",
    "# Compute sensitivity (True Positive Rate)\n",
    "sensitivity = tp / (tp + fn)\n",
    "\n",
    "# Compute specificity (True Negative Rate)\n",
    "specificity = tn / (tn + fp)\n",
    "\n",
    "print(\"Sensitivity (True Positive Rate): {:.3f}\".format(sensitivity))\n",
    "print(\"Specificity (True Negative Rate): {:.3f}\".format(specificity))\n",
    "\n",
    "# Print evaluation metrics\n",
    "print(\"ROC AUC: {:.3f}\".format(roc_auc))\n",
    "print(\"Precision: {:.3f}\".format(precision))\n",
    "print(\"Recall: {:.3f}\".format(recall))\n",
    "print(\"F1-score: {:.3f}\".format(f1))\n",
    "print(\"Sensitivity (True Positive Rate): {:.3f}\".format(sensitivity))\n",
    "print(\"Specificity (True Negative Rate): {:.3f}\".format(specificity))\n",
    "\n",
    "# Plot ROC curve\n",
    "plt.figure(figsize=(8, 6))\n",
    "plt.plot(fpr, tpr, label='ROC Curve (area = {:.2f})'.format(roc_auc))\n",
    "plt.plot([0, 1], [0, 1], 'k--')\n",
    "plt.xlabel('False Positive Rate')\n",
    "plt.ylabel('True Positive Rate')\n",
    "plt.title('Receiver Operating Characteristic (ROC) Curve')\n",
    "plt.legend(loc='lower right')\n",
    "plt.show()\n"
   ]
  },
  {
   "cell_type": "code",
   "execution_count": 29,
   "metadata": {},
   "outputs": [
    {
     "name": "stdout",
     "output_type": "stream",
     "text": [
      "105/105 [==============================] - 0s 3ms/step\n"
     ]
    },
    {
     "data": {
      "image/png": "[encoded data removed]",
      "text/plain": [
       "<Figure size 432x288 with 1 Axes>"
      ]
     },
     "metadata": {
      "needs_background": "light"
     },
     "output_type": "display_data"
    },
    {
     "name": "stdout",
     "output_type": "stream",
     "text": [
      "Best Threshold (Youden's J Statistic): 0.35386014\n"
     ]
    }
   ],
   "source": [
    "from sklearn.metrics import roc_curve\n",
    "# Make predictions on test data (probabilities for positive class)\n",
    "probabilities_testTresh = model.predict(X_test_reshaped)\n",
    "\n",
    "# Calculate FPR and TPR for different cut-off points\n",
    "fpr, tpr, thresholds = roc_curve(true_labels, probabilities_testTresh)\n",
    "\n",
    "# Plot ROC curve\n",
    "plt.plot(fpr, tpr)\n",
    "plt.plot([0, 1], [0, 1], 'k--')\n",
    "plt.xlabel('False Positive Rate (1 - Specificity)')\n",
    "plt.ylabel('True Positive Rate (Sensitivity)')\n",
    "plt.title('Receiver Operating Characteristic (ROC) Curve')\n",
    "plt.show()\n",
    "\n",
    "# Calculate Youden's J Statistic for each threshold\n",
    "youden_j = tpr - fpr\n",
    "\n",
    "# Find the index of the threshold that maximizes Youden's J Statistic\n",
    "best_threshold_index = np.argmax(youden_j)\n",
    "\n",
    "# Get the best threshold value\n",
    "best_threshold = thresholds[best_threshold_index]\n",
    "\n",
    "print(\"Best Threshold (Youden's J Statistic):\", best_threshold)\n"
   ]
  },
  {
   "cell_type": "code",
   "execution_count": null,
   "metadata": {},
   "outputs": [],
   "source": []
  },
  {
   "cell_type": "code",
   "execution_count": null,
   "metadata": {},
   "outputs": [],
   "source": []
  },
  {
   "cell_type": "code",
   "execution_count": null,
   "metadata": {},
   "outputs": [],
   "source": []
  }
 ],
 "metadata": {
  "colab": {
   "collapsed_sections": [],
   "name": "tutorial01.ipynb",
   "provenance": []
  },
  "kernelspec": {
   "display_name": "tf",
   "language": "python",
   "name": "python3"
  },
  "language_info": {
   "codemirror_mode": {
    "name": "ipython",
    "version": 3
   },
   "file_extension": ".py",
   "mimetype": "text/x-python",
   "name": "python",
   "nbconvert_exporter": "python",
   "pygments_lexer": "ipython3",
   "version": "3.9.12"
  },
  "vscode": {
   "interpreter": {
    "hash": "72413b71ce6b4951a346979c61fd738107049958cfddfe2d9d452862b3784db4"
   }
  }
 },
 "nbformat": 4,
 "nbformat_minor": 1
}
