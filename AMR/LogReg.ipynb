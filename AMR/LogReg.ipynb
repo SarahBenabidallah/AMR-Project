{
 "cells": [
  {
   "cell_type": "code",
   "execution_count": 1,
   "metadata": {},
   "outputs": [],
   "source": [
    "\n",
    "import pandas as pd     \n",
    "import numpy as np      \n",
    "import matplotlib.pyplot as plt  \n",
    "from sklearn.model_selection import train_test_split\n",
    "from sklearn.compose import ColumnTransformer\n",
    "from sklearn.preprocessing import OneHotEncoder, StandardScaler\n",
    "import pandas as pd\n",
    "from sklearn.model_selection import train_test_split\n",
    "from sklearn.svm import SVC\n",
    "from sklearn.metrics import accuracy_score\n",
    "from sklearn.pipeline import make_pipeline\n",
    "from sklearn.compose import make_column_transformer\n",
    "from sklearn.model_selection import train_test_split\n",
    "from sklearn.linear_model import LogisticRegression\n",
    "from sklearn.metrics import confusion_matrix, classification_report\n",
    "from sklearn.metrics import accuracy_score\n",
    "import seaborn as sns\n",
    "\n"
   ]
  },
  {
   "cell_type": "code",
   "execution_count": 6,
   "metadata": {},
   "outputs": [
    {
     "data": {
      "text/html": [
       "<div>\n",
       "<style scoped>\n",
       "    .dataframe tbody tr th:only-of-type {\n",
       "        vertical-align: middle;\n",
       "    }\n",
       "\n",
       "    .dataframe tbody tr th {\n",
       "        vertical-align: top;\n",
       "    }\n",
       "\n",
       "    .dataframe thead th {\n",
       "        text-align: right;\n",
       "    }\n",
       "</style>\n",
       "<table border=\"1\" class=\"dataframe\">\n",
       "  <thead>\n",
       "    <tr style=\"text-align: right;\">\n",
       "      <th></th>\n",
       "      <th>StudyNum</th>\n",
       "      <th>Date</th>\n",
       "      <th>ORG.1</th>\n",
       "      <th>Pseudomonas</th>\n",
       "      <th>Specimen</th>\n",
       "      <th>Ciprofloxacin</th>\n",
       "      <th>Ceftazidime</th>\n",
       "      <th>Meropenem</th>\n",
       "      <th>PipTazo</th>\n",
       "      <th>Tob</th>\n",
       "      <th>...</th>\n",
       "      <th>CHRYB</th>\n",
       "      <th>ABCO</th>\n",
       "      <th>EICO</th>\n",
       "      <th>ACURS</th>\n",
       "      <th>HSD</th>\n",
       "      <th>ASPER</th>\n",
       "      <th>MYAB</th>\n",
       "      <th>CALU</th>\n",
       "      <th>HAPAPH</th>\n",
       "      <th>STAN</th>\n",
       "    </tr>\n",
       "  </thead>\n",
       "  <tbody>\n",
       "    <tr>\n",
       "      <th>0</th>\n",
       "      <td>41</td>\n",
       "      <td>01/01/2013</td>\n",
       "      <td>Pseudomona</td>\n",
       "      <td>1</td>\n",
       "      <td>C,13.0140020.BA</td>\n",
       "      <td>1</td>\n",
       "      <td>1</td>\n",
       "      <td>0</td>\n",
       "      <td>1</td>\n",
       "      <td>0</td>\n",
       "      <td>...</td>\n",
       "      <td>0</td>\n",
       "      <td>0</td>\n",
       "      <td>0</td>\n",
       "      <td>0</td>\n",
       "      <td>0</td>\n",
       "      <td>0</td>\n",
       "      <td>0</td>\n",
       "      <td>0</td>\n",
       "      <td>0</td>\n",
       "      <td>0</td>\n",
       "    </tr>\n",
       "    <tr>\n",
       "      <th>1</th>\n",
       "      <td>41</td>\n",
       "      <td>01/01/2013</td>\n",
       "      <td>Pseudomona</td>\n",
       "      <td>1</td>\n",
       "      <td>C,13.0140020.BA</td>\n",
       "      <td>0</td>\n",
       "      <td>0</td>\n",
       "      <td>0</td>\n",
       "      <td>0</td>\n",
       "      <td>0</td>\n",
       "      <td>...</td>\n",
       "      <td>0</td>\n",
       "      <td>0</td>\n",
       "      <td>0</td>\n",
       "      <td>0</td>\n",
       "      <td>0</td>\n",
       "      <td>0</td>\n",
       "      <td>0</td>\n",
       "      <td>0</td>\n",
       "      <td>0</td>\n",
       "      <td>0</td>\n",
       "    </tr>\n",
       "    <tr>\n",
       "      <th>2</th>\n",
       "      <td>37</td>\n",
       "      <td>02/01/2013</td>\n",
       "      <td>Pseudomona</td>\n",
       "      <td>1</td>\n",
       "      <td>C,13.0140068.TA</td>\n",
       "      <td>0</td>\n",
       "      <td>1</td>\n",
       "      <td>1</td>\n",
       "      <td>1</td>\n",
       "      <td>0</td>\n",
       "      <td>...</td>\n",
       "      <td>0</td>\n",
       "      <td>0</td>\n",
       "      <td>0</td>\n",
       "      <td>0</td>\n",
       "      <td>0</td>\n",
       "      <td>0</td>\n",
       "      <td>0</td>\n",
       "      <td>0</td>\n",
       "      <td>0</td>\n",
       "      <td>0</td>\n",
       "    </tr>\n",
       "    <tr>\n",
       "      <th>3</th>\n",
       "      <td>37</td>\n",
       "      <td>02/01/2013</td>\n",
       "      <td>Pseudomona</td>\n",
       "      <td>1</td>\n",
       "      <td>C,13.0140068.TA</td>\n",
       "      <td>0</td>\n",
       "      <td>0</td>\n",
       "      <td>0</td>\n",
       "      <td>0</td>\n",
       "      <td>0</td>\n",
       "      <td>...</td>\n",
       "      <td>0</td>\n",
       "      <td>0</td>\n",
       "      <td>0</td>\n",
       "      <td>0</td>\n",
       "      <td>0</td>\n",
       "      <td>0</td>\n",
       "      <td>0</td>\n",
       "      <td>0</td>\n",
       "      <td>0</td>\n",
       "      <td>0</td>\n",
       "    </tr>\n",
       "    <tr>\n",
       "      <th>4</th>\n",
       "      <td>37</td>\n",
       "      <td>02/01/2013</td>\n",
       "      <td>Pseudomona</td>\n",
       "      <td>1</td>\n",
       "      <td>C,13.0140068.TA</td>\n",
       "      <td>0</td>\n",
       "      <td>0</td>\n",
       "      <td>0</td>\n",
       "      <td>0</td>\n",
       "      <td>0</td>\n",
       "      <td>...</td>\n",
       "      <td>0</td>\n",
       "      <td>0</td>\n",
       "      <td>0</td>\n",
       "      <td>0</td>\n",
       "      <td>0</td>\n",
       "      <td>0</td>\n",
       "      <td>0</td>\n",
       "      <td>0</td>\n",
       "      <td>0</td>\n",
       "      <td>0</td>\n",
       "    </tr>\n",
       "    <tr>\n",
       "      <th>...</th>\n",
       "      <td>...</td>\n",
       "      <td>...</td>\n",
       "      <td>...</td>\n",
       "      <td>...</td>\n",
       "      <td>...</td>\n",
       "      <td>...</td>\n",
       "      <td>...</td>\n",
       "      <td>...</td>\n",
       "      <td>...</td>\n",
       "      <td>...</td>\n",
       "      <td>...</td>\n",
       "      <td>...</td>\n",
       "      <td>...</td>\n",
       "      <td>...</td>\n",
       "      <td>...</td>\n",
       "      <td>...</td>\n",
       "      <td>...</td>\n",
       "      <td>...</td>\n",
       "      <td>...</td>\n",
       "      <td>...</td>\n",
       "      <td>...</td>\n",
       "    </tr>\n",
       "    <tr>\n",
       "      <th>495</th>\n",
       "      <td>240</td>\n",
       "      <td>09/04/2013</td>\n",
       "      <td>Pseudomona</td>\n",
       "      <td>1</td>\n",
       "      <td>C,13.0143969.AA</td>\n",
       "      <td>1</td>\n",
       "      <td>1</td>\n",
       "      <td>1</td>\n",
       "      <td>1</td>\n",
       "      <td>0</td>\n",
       "      <td>...</td>\n",
       "      <td>0</td>\n",
       "      <td>0</td>\n",
       "      <td>0</td>\n",
       "      <td>0</td>\n",
       "      <td>0</td>\n",
       "      <td>0</td>\n",
       "      <td>0</td>\n",
       "      <td>0</td>\n",
       "      <td>0</td>\n",
       "      <td>0</td>\n",
       "    </tr>\n",
       "    <tr>\n",
       "      <th>496</th>\n",
       "      <td>70</td>\n",
       "      <td>09/04/2013</td>\n",
       "      <td>Pseudomona</td>\n",
       "      <td>1</td>\n",
       "      <td>C,13.0143966.QA</td>\n",
       "      <td>1</td>\n",
       "      <td>0</td>\n",
       "      <td>1</td>\n",
       "      <td>0</td>\n",
       "      <td>0</td>\n",
       "      <td>...</td>\n",
       "      <td>0</td>\n",
       "      <td>0</td>\n",
       "      <td>0</td>\n",
       "      <td>0</td>\n",
       "      <td>0</td>\n",
       "      <td>0</td>\n",
       "      <td>0</td>\n",
       "      <td>0</td>\n",
       "      <td>0</td>\n",
       "      <td>0</td>\n",
       "    </tr>\n",
       "    <tr>\n",
       "      <th>497</th>\n",
       "      <td>70</td>\n",
       "      <td>09/04/2013</td>\n",
       "      <td>Pseudomona</td>\n",
       "      <td>1</td>\n",
       "      <td>C,13.0143966.QA</td>\n",
       "      <td>0</td>\n",
       "      <td>0</td>\n",
       "      <td>0</td>\n",
       "      <td>0</td>\n",
       "      <td>0</td>\n",
       "      <td>...</td>\n",
       "      <td>0</td>\n",
       "      <td>0</td>\n",
       "      <td>0</td>\n",
       "      <td>0</td>\n",
       "      <td>0</td>\n",
       "      <td>0</td>\n",
       "      <td>0</td>\n",
       "      <td>0</td>\n",
       "      <td>0</td>\n",
       "      <td>0</td>\n",
       "    </tr>\n",
       "    <tr>\n",
       "      <th>498</th>\n",
       "      <td>13</td>\n",
       "      <td>09/04/2013</td>\n",
       "      <td>Pseudomona</td>\n",
       "      <td>1</td>\n",
       "      <td>C,13.0144049.QA</td>\n",
       "      <td>1</td>\n",
       "      <td>1</td>\n",
       "      <td>1</td>\n",
       "      <td>1</td>\n",
       "      <td>0</td>\n",
       "      <td>...</td>\n",
       "      <td>0</td>\n",
       "      <td>0</td>\n",
       "      <td>0</td>\n",
       "      <td>0</td>\n",
       "      <td>0</td>\n",
       "      <td>0</td>\n",
       "      <td>0</td>\n",
       "      <td>0</td>\n",
       "      <td>0</td>\n",
       "      <td>0</td>\n",
       "    </tr>\n",
       "    <tr>\n",
       "      <th>499</th>\n",
       "      <td>13</td>\n",
       "      <td>09/04/2013</td>\n",
       "      <td>Pseudomona</td>\n",
       "      <td>1</td>\n",
       "      <td>C,13.0144049.QA</td>\n",
       "      <td>1</td>\n",
       "      <td>0</td>\n",
       "      <td>0</td>\n",
       "      <td>0</td>\n",
       "      <td>0</td>\n",
       "      <td>...</td>\n",
       "      <td>0</td>\n",
       "      <td>0</td>\n",
       "      <td>0</td>\n",
       "      <td>0</td>\n",
       "      <td>0</td>\n",
       "      <td>0</td>\n",
       "      <td>0</td>\n",
       "      <td>0</td>\n",
       "      <td>0</td>\n",
       "      <td>0</td>\n",
       "    </tr>\n",
       "  </tbody>\n",
       "</table>\n",
       "<p>500 rows × 152 columns</p>\n",
       "</div>"
      ],
      "text/plain": [
       "     StudyNum        Date       ORG.1  Pseudomonas         Specimen  \\\n",
       "0          41  01/01/2013  Pseudomona            1  C,13.0140020.BA   \n",
       "1          41  01/01/2013  Pseudomona            1  C,13.0140020.BA   \n",
       "2          37  02/01/2013  Pseudomona            1  C,13.0140068.TA   \n",
       "3          37  02/01/2013  Pseudomona            1  C,13.0140068.TA   \n",
       "4          37  02/01/2013  Pseudomona            1  C,13.0140068.TA   \n",
       "..        ...         ...         ...          ...              ...   \n",
       "495       240  09/04/2013  Pseudomona            1  C,13.0143969.AA   \n",
       "496        70  09/04/2013  Pseudomona            1  C,13.0143966.QA   \n",
       "497        70  09/04/2013  Pseudomona            1  C,13.0143966.QA   \n",
       "498        13  09/04/2013  Pseudomona            1  C,13.0144049.QA   \n",
       "499        13  09/04/2013  Pseudomona            1  C,13.0144049.QA   \n",
       "\n",
       "     Ciprofloxacin  Ceftazidime  Meropenem  PipTazo  Tob  ...  CHRYB  ABCO  \\\n",
       "0                1            1          0        1    0  ...      0     0   \n",
       "1                0            0          0        0    0  ...      0     0   \n",
       "2                0            1          1        1    0  ...      0     0   \n",
       "3                0            0          0        0    0  ...      0     0   \n",
       "4                0            0          0        0    0  ...      0     0   \n",
       "..             ...          ...        ...      ...  ...  ...    ...   ...   \n",
       "495              1            1          1        1    0  ...      0     0   \n",
       "496              1            0          1        0    0  ...      0     0   \n",
       "497              0            0          0        0    0  ...      0     0   \n",
       "498              1            1          1        1    0  ...      0     0   \n",
       "499              1            0          0        0    0  ...      0     0   \n",
       "\n",
       "     EICO  ACURS  HSD  ASPER  MYAB  CALU  HAPAPH  STAN  \n",
       "0       0      0    0      0     0     0       0     0  \n",
       "1       0      0    0      0     0     0       0     0  \n",
       "2       0      0    0      0     0     0       0     0  \n",
       "3       0      0    0      0     0     0       0     0  \n",
       "4       0      0    0      0     0     0       0     0  \n",
       "..    ...    ...  ...    ...   ...   ...     ...   ...  \n",
       "495     0      0    0      0     0     0       0     0  \n",
       "496     0      0    0      0     0     0       0     0  \n",
       "497     0      0    0      0     0     0       0     0  \n",
       "498     0      0    0      0     0     0       0     0  \n",
       "499     0      0    0      0     0     0       0     0  \n",
       "\n",
       "[500 rows x 152 columns]"
      ]
     },
     "execution_count": 6,
     "metadata": {},
     "output_type": "execute_result"
    }
   ],
   "source": [
    "\n",
    "McReg = pd.read_csv(\"mergedMc.csv\") \n",
    "McReg.head(500) "
   ]
  },
  {
   "cell_type": "code",
   "execution_count": 7,
   "metadata": {},
   "outputs": [
    {
     "name": "stdout",
     "output_type": "stream",
     "text": [
      "ORG.1            object\n",
      "Pseudomonas       int64\n",
      "Specimen         object\n",
      "Ciprofloxacin     int64\n",
      "Ceftazidime       int64\n",
      "                  ...  \n",
      "ASPER             int64\n",
      "MYAB              int64\n",
      "CALU              int64\n",
      "HAPAPH            int64\n",
      "STAN              int64\n",
      "Length: 150, dtype: object\n"
     ]
    }
   ],
   "source": [
    "McReg = McReg.drop(\"Date\", axis=1)\n",
    "McReg = McReg.drop(\"StudyNum\", axis=1)\n",
    "\n",
    "\n",
    "print(McReg.dtypes)\n"
   ]
  },
  {
   "cell_type": "code",
   "execution_count": 8,
   "metadata": {},
   "outputs": [
    {
     "name": "stdout",
     "output_type": "stream",
     "text": [
      "Index(['ORG.1', 'Pseudomonas', 'Specimen', 'Ciprofloxacin', 'Ceftazidime',\n",
      "       'Meropenem', 'PipTazo', 'Tob', 'MDR', 'PYOMO',\n",
      "       ...\n",
      "       'CHRYB', 'ABCO', 'EICO', 'ACURS', 'HSD', 'ASPER', 'MYAB', 'CALU',\n",
      "       'HAPAPH', 'STAN'],\n",
      "      dtype='object', length=150)\n"
     ]
    }
   ],
   "source": [
    "print(McReg.columns)"
   ]
  },
  {
   "cell_type": "code",
   "execution_count": 9,
   "metadata": {},
   "outputs": [
    {
     "name": "stdout",
     "output_type": "stream",
     "text": [
      "  (0, 0)\t1.0\n",
      "  (0, 4427)\t1.0\n",
      "  (0, 4428)\t1.0\n",
      "  (0, 4429)\t1.0\n",
      "  (0, 4430)\t1.0\n",
      "  (0, 4432)\t1.0\n",
      "  (0, 4434)\t1.0\n",
      "  (0, 4437)\t1.0\n",
      "  (0, 4438)\t1.0\n",
      "  (1, 0)\t1.0\n",
      "  (1, 4427)\t1.0\n",
      "  (1, 4428)\t1.0\n",
      "  (1, 4434)\t1.0\n",
      "  (1, 4437)\t1.0\n",
      "  (1, 4438)\t1.0\n",
      "  (2, 2)\t1.0\n",
      "  (2, 4427)\t1.0\n",
      "  (2, 4428)\t1.0\n",
      "  (2, 4430)\t1.0\n",
      "  (2, 4431)\t1.0\n",
      "  (2, 4432)\t1.0\n",
      "  (2, 4434)\t1.0\n",
      "  (2, 4437)\t1.0\n",
      "  (2, 4439)\t1.0\n",
      "  (3, 2)\t1.0\n",
      "  :\t:\n",
      "  (7721, 4435)\t1.0\n",
      "  (7721, 4436)\t1.0\n",
      "  (7721, 4439)\t1.0\n",
      "  (7721, 4450)\t1.0\n",
      "  (7722, 4426)\t1.0\n",
      "  (7722, 4427)\t1.0\n",
      "  (7722, 4428)\t1.0\n",
      "  (7722, 4429)\t1.0\n",
      "  (7722, 4430)\t1.0\n",
      "  (7722, 4431)\t1.0\n",
      "  (7722, 4432)\t1.0\n",
      "  (7722, 4435)\t1.0\n",
      "  (7722, 4436)\t1.0\n",
      "  (7722, 4439)\t1.0\n",
      "  (7722, 4450)\t1.0\n",
      "  (7723, 4424)\t1.0\n",
      "  (7723, 4427)\t1.0\n",
      "  (7723, 4428)\t1.0\n",
      "  (7723, 4429)\t1.0\n",
      "  (7723, 4430)\t1.0\n",
      "  (7723, 4431)\t1.0\n",
      "  (7723, 4432)\t1.0\n",
      "  (7723, 4433)\t1.0\n",
      "  (7723, 4436)\t1.0\n",
      "  (7723, 4437)\t1.0\n"
     ]
    }
   ],
   "source": [
    "\n",
    "X = McReg.drop('MDR', axis=1)\n",
    "y = McReg['MDR']\n",
    "\n",
    "ct = make_column_transformer(\n",
    "    (OneHotEncoder(), [\"Specimen\", \"ORG.1\"]),\n",
    "    remainder=\"passthrough\",\n",
    ")\n",
    "\n",
    "X_transformed = ct.fit_transform(X)\n",
    "\n",
    "print(X_transformed)\n"
   ]
  },
  {
   "cell_type": "code",
   "execution_count": 10,
   "metadata": {},
   "outputs": [
    {
     "name": "stdout",
     "output_type": "stream",
     "text": [
      "Number of feature names: 4428\n",
      "Feature names: ['Specimen_C,13.0140020.BA' 'Specimen_C,13.0140066.PA'\n",
      " 'Specimen_C,13.0140068.TA' ... 'Specimen_C,18.0164275.KA'\n",
      " 'Specimen_C,18.0166334.QA' 'ORG.1_Pseudomona']\n"
     ]
    }
   ],
   "source": [
    "feature_names = ct.transformers_[0][1].get_feature_names_out(['Specimen', 'ORG.1'])\n",
    "print(\"Number of feature names:\", len(feature_names))\n",
    "print(\"Feature names:\", feature_names)\n"
   ]
  },
  {
   "cell_type": "code",
   "execution_count": 11,
   "metadata": {},
   "outputs": [],
   "source": [
    "X_train, X_test, y_train, y_test = train_test_split(X_transformed, y, test_size=0.2, random_state=42)\n"
   ]
  },
  {
   "cell_type": "code",
   "execution_count": 12,
   "metadata": {},
   "outputs": [
    {
     "name": "stdout",
     "output_type": "stream",
     "text": [
      "Accuracy: 1.0\n"
     ]
    }
   ],
   "source": [
    "\n",
    "\n",
    "\n",
    "logreg = LogisticRegression(max_iter=1000)\n",
    "logreg.fit(X_train, y_train)\n",
    "\n",
    "y_predlOG = logreg.predict(X_test)\n",
    "\n",
    "accuracy = logreg.score(X_test, y_test)\n",
    "print(\"Accuracy:\", accuracy)\n"
   ]
  },
  {
   "cell_type": "code",
   "execution_count": 13,
   "metadata": {},
   "outputs": [
    {
     "name": "stdout",
     "output_type": "stream",
     "text": [
      "Fitting 4 folds for each of 32 candidates, totalling 128 fits\n",
      "Best score for training data: 1.0\n",
      "Best parameters: {'C': 0.1, 'class_weight': None, 'penalty': 'l1', 'solver': 'liblinear'}\n",
      "Accuracy on test data: 1.0\n"
     ]
    }
   ],
   "source": [
    "from sklearn.linear_model import LogisticRegression\n",
    "from sklearn.model_selection import GridSearchCV\n",
    "\n",
    "parameters = {\n",
    "    'C': [0.01, 0.1, 1, 10],\n",
    "    'penalty': ['l1', 'l2'],\n",
    "    'class_weight': [None, 'balanced'],\n",
    "    'solver': ['liblinear', 'saga'],\n",
    "}\n",
    "\n",
    "logreg = LogisticRegression(max_iter=1000)\n",
    "\n",
    "grid_search = GridSearchCV(logreg, parameters, cv=4, n_jobs=-1, verbose=4)\n",
    "grid_search.fit(X_train, y_train)\n",
    "\n",
    "print('Best score for training data:', grid_search.best_score_)\n",
    "print('Best parameters:', grid_search.best_params_)\n",
    "\n",
    "best_modelLOG = grid_search.best_estimator_\n",
    "\n",
    "accuracy = best_modelLOG.score(X_test, y_test)\n",
    "print('Accuracy on test data:', accuracy)\n"
   ]
  },
  {
   "cell_type": "code",
   "execution_count": 14,
   "metadata": {},
   "outputs": [
    {
     "name": "stdout",
     "output_type": "stream",
     "text": [
      "\n",
      " -------------Classification Report-------------\n",
      "\n",
      "              precision    recall  f1-score   support\n",
      "\n",
      "           0       1.00      1.00      1.00      1029\n",
      "           1       1.00      1.00      1.00       516\n",
      "\n",
      "    accuracy                           1.00      1545\n",
      "   macro avg       1.00      1.00      1.00      1545\n",
      "weighted avg       1.00      1.00      1.00      1545\n",
      "\n"
     ]
    },
    {
     "ename": "NameError",
     "evalue": "name 'cm' is not defined",
     "output_type": "error",
     "traceback": [
      "\u001b[1;31m---------------------------------------------------------------------------\u001b[0m",
      "\u001b[1;31mNameError\u001b[0m                                 Traceback (most recent call last)",
      "\u001b[1;32mc:\\Users\\sarah\\OneDrive - Liverpool John Moores University\\LJMU\\AMR PROJECT\\LogReg.ipynb Cell 10'\u001b[0m in \u001b[0;36m<cell line: 5>\u001b[1;34m()\u001b[0m\n\u001b[0;32m      <a href='vscode-notebook-cell:/c%3A/Users/sarah/OneDrive%20-%20Liverpool%20John%20Moores%20University/LJMU/AMR%20PROJECT/LogReg.ipynb#ch0000009?line=1'>2</a>\u001b[0m \u001b[39mprint\u001b[39m(classification_report(y_test, y_predlOG))\n\u001b[0;32m      <a href='vscode-notebook-cell:/c%3A/Users/sarah/OneDrive%20-%20Liverpool%20John%20Moores%20University/LJMU/AMR%20PROJECT/LogReg.ipynb#ch0000009?line=3'>4</a>\u001b[0m labels \u001b[39m=\u001b[39m [\u001b[39m'\u001b[39m\u001b[39m1\u001b[39m\u001b[39m'\u001b[39m, \u001b[39m'\u001b[39m\u001b[39m0\u001b[39m\u001b[39m'\u001b[39m]\n\u001b[1;32m----> <a href='vscode-notebook-cell:/c%3A/Users/sarah/OneDrive%20-%20Liverpool%20John%20Moores%20University/LJMU/AMR%20PROJECT/LogReg.ipynb#ch0000009?line=4'>5</a>\u001b[0m confusion_mat \u001b[39m=\u001b[39m cm(y_test, y_predlOG)\n\u001b[0;32m      <a href='vscode-notebook-cell:/c%3A/Users/sarah/OneDrive%20-%20Liverpool%20John%20Moores%20University/LJMU/AMR%20PROJECT/LogReg.ipynb#ch0000009?line=5'>6</a>\u001b[0m sns\u001b[39m.\u001b[39mheatmap(confusion_mat, xticklabels\u001b[39m=\u001b[39mlabels, yticklabels\u001b[39m=\u001b[39mlabels, annot\u001b[39m=\u001b[39m\u001b[39mTrue\u001b[39;00m, linewidths\u001b[39m=\u001b[39m\u001b[39m0.1\u001b[39m, fmt\u001b[39m=\u001b[39m\u001b[39m'\u001b[39m\u001b[39md\u001b[39m\u001b[39m'\u001b[39m, cmap\u001b[39m=\u001b[39m\u001b[39m'\u001b[39m\u001b[39mYlGnBu\u001b[39m\u001b[39m'\u001b[39m)\n\u001b[0;32m      <a href='vscode-notebook-cell:/c%3A/Users/sarah/OneDrive%20-%20Liverpool%20John%20Moores%20University/LJMU/AMR%20PROJECT/LogReg.ipynb#ch0000009?line=6'>7</a>\u001b[0m plt\u001b[39m.\u001b[39mtitle(\u001b[39m'\u001b[39m\u001b[39mConfusion matrix\u001b[39m\u001b[39m'\u001b[39m, fontsize\u001b[39m=\u001b[39m\u001b[39m15\u001b[39m)\n",
      "\u001b[1;31mNameError\u001b[0m: name 'cm' is not defined"
     ]
    }
   ],
   "source": [
    "print(\"\\n -------------Classification Report-------------\\n\")\n",
    "print(classification_report(y_test, y_predlOG))\n",
    "\n",
    "labels = ['1', '0']\n",
    "confusion_mat = cm(y_test, y_predlOG)\n",
    "sns.heatmap(confusion_mat, xticklabels=labels, yticklabels=labels, annot=True, linewidths=0.1, fmt='d', cmap='YlGnBu')\n",
    "plt.title('Confusion matrix', fontsize=15)\n",
    "plt.ylabel('True label')\n",
    "plt.xlabel('Predicted label')\n",
    "plt.show()"
   ]
  },
  {
   "cell_type": "code",
   "execution_count": 15,
   "metadata": {},
   "outputs": [
    {
     "name": "stdout",
     "output_type": "stream",
     "text": [
      "Accuracy: 1.0\n",
      "\n",
      " -------------Classification Report-------------\n",
      "\n",
      "              precision    recall  f1-score   support\n",
      "\n",
      "           0       1.00      1.00      1.00      1029\n",
      "           1       1.00      1.00      1.00       516\n",
      "\n",
      "    accuracy                           1.00      1545\n",
      "   macro avg       1.00      1.00      1.00      1545\n",
      "weighted avg       1.00      1.00      1.00      1545\n",
      "\n"
     ]
    },
    {
     "data": {
      "image/png": "[encoded data removed]",
      "text/plain": [
       "<Figure size 432x288 with 2 Axes>"
      ]
     },
     "metadata": {
      "needs_background": "light"
     },
     "output_type": "display_data"
    }
   ],
   "source": [
    "from sklearn.metrics import confusion_matrix as cm\n",
    "\n",
    "svm_model = SVC(probability=True)\n",
    "\n",
    "svm_model.fit(X_train, y_train)\n",
    "y_pred = svm_model.predict(X_test)\n",
    "\n",
    "accuracy = accuracy_score(y_test, y_pred)\n",
    "print(\"Accuracy:\", accuracy)\n",
    "\n",
    "print(\"\\n -------------Classification Report-------------\\n\")\n",
    "print(classification_report(y_test, y_pred))\n",
    "\n",
    "labels = ['1', '0']\n",
    "confusion_mat = cm(y_test, y_pred)\n",
    "sns.heatmap(confusion_mat, xticklabels=labels, yticklabels=labels, annot=True, linewidths=0.1, fmt='d', cmap='YlGnBu')\n",
    "plt.title('Confusion matrix', fontsize=15)\n",
    "plt.ylabel('True label')\n",
    "plt.xlabel('Predicted label')\n",
    "plt.savefig('confusion_matrixSVM.png')  \n",
    "\n",
    "\n",
    "plt.show()\n"
   ]
  },
  {
   "cell_type": "code",
   "execution_count": 16,
   "metadata": {},
   "outputs": [
    {
     "data": {
      "image/png": "[encoded data removed]",
      "text/plain": [
       "<Figure size 432x288 with 1 Axes>"
      ]
     },
     "metadata": {
      "needs_background": "light"
     },
     "output_type": "display_data"
    }
   ],
   "source": [
    "from sklearn.metrics import roc_curve, auc\n",
    "\n",
    "y_pred_proba = svm_model.predict_proba(X_test)[:, 1]\n",
    "\n",
    "fpr, tpr, thresholds = roc_curve(y_test, y_pred_proba)\n",
    "\n",
    "roc_auc = auc(fpr, tpr)\n",
    "\n",
    "plt.plot(fpr, tpr, label='ROC curve (area = %0.2f)' % roc_auc)\n",
    "plt.plot([0, 1], [0, 1], 'k--')  \n",
    "plt.xlim([0.0, 1.0])\n",
    "plt.ylim([0.0, 1.05])\n",
    "plt.xlabel('False Positive Rate')\n",
    "plt.ylabel('True Positive Rate')\n",
    "plt.title('Receiver Operating Characteristic')\n",
    "plt.legend(loc=\"lower right\")\n",
    "plt.savefig('roc_curveSVM.png')  \n",
    "plt.show()\n"
   ]
  },
  {
   "cell_type": "code",
   "execution_count": 17,
   "metadata": {},
   "outputs": [
    {
     "name": "stdout",
     "output_type": "stream",
     "text": [
      "Fitting 4 folds for each of 32 candidates, totalling 128 fits\n",
      "Best score for training data: 1.0 \n",
      "\n",
      "Best C: 10 \n",
      "\n",
      "Best Kernel: sigmoid \n",
      "\n",
      "Best Gamma: 0.001 \n",
      "\n"
     ]
    }
   ],
   "source": [
    "from sklearn.model_selection import GridSearchCV\n",
    "from sklearn.model_selection import StratifiedKFold\n",
    "\n",
    "parameters = [\n",
    "    {'kernel': ['rbf'], 'gamma': [0.001, 0.0001], 'C': [0.01, 0.1, 1, 10], 'class_weight': [None, 'balanced'], 'verbose': [False]},\n",
    "    #{'kernel': ['linear'], 'C': [0.01, 0.1, 1, 10], 'class_weight': [None, 'balanced'], 'verbose': [False]},\n",
    "    #{'kernel': ['poly'], 'degree': [2, 3, 4], 'C': [0.01, 0.1, 1, 10], 'class_weight': [None, 'balanced'], 'verbose': [False]},\n",
    "    {'kernel': ['sigmoid'], 'gamma': [0.001, 0.0001], 'C': [0.01, 0.1, 1, 10], 'class_weight': [None, 'balanced'], 'verbose': [False]}\n",
    "]\n",
    "\n",
    "cv = StratifiedKFold(n_splits=4, shuffle=True, random_state=42)  \n",
    "\n",
    "model = GridSearchCV(svm_model, parameters, n_jobs=-1, cv=cv, verbose=4)\n",
    "model.fit(X_train, y_train)\n",
    "\n",
    "print('Best score for training data:', model.best_score_,\"\\n\") \n",
    "\n",
    "print('Best C:',model.best_estimator_.C,\"\\n\") \n",
    "print('Best Kernel:',model.best_estimator_.kernel,\"\\n\")\n",
    "print('Best Gamma:',model.best_estimator_.gamma,\"\\n\")"
   ]
  },
  {
   "cell_type": "code",
   "execution_count": 18,
   "metadata": {},
   "outputs": [
    {
     "name": "stdout",
     "output_type": "stream",
     "text": [
      "Accuracy: 1.0\n",
      "\n",
      " -------------Classification Report-------------\n",
      "\n",
      "              precision    recall  f1-score   support\n",
      "\n",
      "           0       1.00      1.00      1.00      1029\n",
      "           1       1.00      1.00      1.00       516\n",
      "\n",
      "    accuracy                           1.00      1545\n",
      "   macro avg       1.00      1.00      1.00      1545\n",
      "weighted avg       1.00      1.00      1.00      1545\n",
      "\n"
     ]
    },
    {
     "data": {
      "image/png": "[encoded data removed]",
      "text/plain": [
       "<Figure size 432x288 with 2 Axes>"
      ]
     },
     "metadata": {
      "needs_background": "light"
     },
     "output_type": "display_data"
    }
   ],
   "source": [
    "from sklearn.metrics import confusion_matrix, classification_report\n",
    "from sklearn.metrics import accuracy_score\n",
    "import seaborn as sns\n",
    "final_model = model.best_estimator_\n",
    "y_pred = final_model.predict(X_test)\n",
    "print(\"Accuracy:\", accuracy_score(y_test, y_pred))\n",
    "\n",
    "print(\"\\n -------------Classification Report-------------\\n\")\n",
    "print(classification_report(y_test, y_pred))\n",
    "\n",
    "\n",
    "Y_predBest = final_model.predict(X_test)\n",
    "labels = ['Resistant', 'NonResistant']\n",
    "confusion_matrix = confusion_matrix(y_test, Y_predBest)\n",
    "sns.heatmap(confusion_matrix, xticklabels=labels, yticklabels=labels, annot=True,linewidths = 0.1, fmt='d', cmap = 'YlGnBu')\n",
    "plt.title('Confusion matrix', fontsize = 15)\n",
    "plt.ylabel('True label')\n",
    "plt.xlabel('Predicted label')\n",
    "plt.savefig('confusion_matrixSVM_Grid.png')  \n",
    "\n",
    "plt.show()"
   ]
  },
  {
   "cell_type": "code",
   "execution_count": 19,
   "metadata": {},
   "outputs": [
    {
     "data": {
      "image/png": "[encoded data removed]",
      "text/plain": [
       "<Figure size 432x288 with 1 Axes>"
      ]
     },
     "metadata": {
      "needs_background": "light"
     },
     "output_type": "display_data"
    }
   ],
   "source": [
    "from sklearn.metrics import roc_curve, auc\n",
    "\n",
    "y_pred_proba = final_model.predict_proba(X_test)[:, 1]\n",
    "\n",
    "fpr, tpr, thresholds = roc_curve(y_test, y_pred_proba)\n",
    "\n",
    "roc_auc = auc(fpr, tpr)\n",
    "\n",
    "plt.plot(fpr, tpr, label='ROC curve (AUC = %0.2f)' % roc_auc)\n",
    "plt.plot([0, 1], [0, 1], 'k--')  \n",
    "plt.xlim([0.0, 1.0])\n",
    "plt.ylim([0.0, 1.05])\n",
    "plt.xlabel('False Positive Rate')\n",
    "plt.ylabel('True Positive Rate')\n",
    "plt.title('Receiver Operating Characteristic (ROC)')\n",
    "plt.legend(loc=\"lower right\")\n",
    "plt.savefig('ROC_CURVE_SVM_Grid.png')  \n",
    "\n",
    "plt.show()\n"
   ]
  },
  {
   "cell_type": "code",
   "execution_count": null,
   "metadata": {},
   "outputs": [],
   "source": []
  },
  {
   "cell_type": "code",
   "execution_count": null,
   "metadata": {},
   "outputs": [],
   "source": []
  },
  {
   "cell_type": "code",
   "execution_count": null,
   "metadata": {},
   "outputs": [],
   "source": []
  },
  {
   "cell_type": "code",
   "execution_count": null,
   "metadata": {},
   "outputs": [],
   "source": []
  }
 ],
 "metadata": {
  "colab": {
   "collapsed_sections": [],
   "name": "tutorial01.ipynb",
   "provenance": []
  },
  "kernelspec": {
   "display_name": "tf",
   "language": "python",
   "name": "python3"
  },
  "language_info": {
   "codemirror_mode": {
    "name": "ipython",
    "version": 3
   },
   "file_extension": ".py",
   "mimetype": "text/x-python",
   "name": "python",
   "nbconvert_exporter": "python",
   "pygments_lexer": "ipython3",
   "version": "3.9.12"
  },
  "vscode": {
   "interpreter": {
    "hash": "72413b71ce6b4951a346979c61fd738107049958cfddfe2d9d452862b3784db4"
   }
  }
 },
 "nbformat": 4,
 "nbformat_minor": 1
}
